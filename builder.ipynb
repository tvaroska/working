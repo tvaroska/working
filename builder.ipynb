{
 "cells": [
  {
   "cell_type": "code",
   "execution_count": 1,
   "id": "4e4fbb46-53a2-45d6-984f-56eedfebaf3d",
   "metadata": {},
   "outputs": [],
   "source": [
    "from typing import List\n",
    "from pydantic import BaseModel, Field\n",
    "\n",
    "from langchain_google_vertexai import ChatVertexAI\n",
    "\n",
    "from article.sources import sources\n",
    "from article.utils import flatten_openapi, generate_extract\n",
    "\n",
    "import mistune\n",
    "from IPython.display import Markdown\n",
    "from tqdm.notebook import tqdm"
   ]
  },
  {
   "cell_type": "code",
   "execution_count": 2,
   "id": "3e318d81-f7eb-4bd3-8df3-8035245f79d9",
   "metadata": {},
   "outputs": [],
   "source": [
    "class Section(BaseModel):\n",
    "    name: str = Field(title='Name/title of the section')\n",
    "    points: List[str] = Field(title='List of no more than 3 main points for this section')\n",
    "    summary: str = Field(title=\"Summary of the section in 20-50 words\")\n",
    "    experts: List[str] = Field(title=\"List of 3-5 experts roles/descrptions who can help with article by providing feedback\")\n",
    "\n",
    "    def __str__(self):\n",
    "        return f'## {self.name}\\n{self.summary}\\n\\n'+','.join(self.points)\n",
    "\n",
    "class Outline(BaseModel):\n",
    "    title: str = Field(title=\"Title of the article\")\n",
    "    summary: str = Field(title=\"Summary of the article in 20-50 words\")\n",
    "    sections: List[Section]\n",
    "\n",
    "    def __str__(self):\n",
    "        return f'# {self.title}\\n{self.summary}\\n\\n' + '\\n'.join([str(x) for x in self.sections])"
   ]
  },
  {
   "cell_type": "code",
   "execution_count": 3,
   "id": "c07a51f4-a3b4-4bb5-b61a-b3cb51c0b607",
   "metadata": {},
   "outputs": [],
   "source": [
    "articles = sources()\n",
    "style_articles = [x[1] for x in articles if x[0].startswith('data/oreilly')]\n",
    "articles = [x[1] for x in articles]"
   ]
  },
  {
   "cell_type": "code",
   "execution_count": 4,
   "id": "1388aa9c-3309-46b7-abf6-1ae50f73949a",
   "metadata": {},
   "outputs": [],
   "source": [
    "with open('style.md') as f:\n",
    "    style = f.read()"
   ]
  },
  {
   "cell_type": "markdown",
   "id": "7eefe63e-f4e5-458e-92be-2320b8816ea3",
   "metadata": {},
   "source": [
    "### Create outline"
   ]
  },
  {
   "cell_type": "code",
   "execution_count": 5,
   "id": "b3a0fb9b-4858-4dd7-96fd-86de8a7fa101",
   "metadata": {},
   "outputs": [],
   "source": [
    "initial = \"\"\"\n",
    "genai in legacy environment\n",
    "\n",
    "what is different to startup?\n",
    "- existing processes, do we want to automate (potenialy inefective process) or optimize\n",
    "- existing applications - are APIs ready for GenAI?\n",
    "- old documentation - if I have final1.doc and final2.doc which one has valid info?\n",
    "\n",
    "even with the the challenges there is tremendous benefits of GenAI in legacy env\n",
    "\n",
    "What aproaches works:\n",
    "- start small, focused. Having 100s ideas are great but focus is important\n",
    "- start with business - what outcomes do we want and how to measure them\n",
    "- translate it to scenarios - input -> output. with this start evals\n",
    "\n",
    "Evals\n",
    "Human -> llm as a judge\n",
    "\n",
    "Prompt engineering\n",
    "Split to small steps. Easier to manage, easier to evaluate and easier to \"explain\" = less black box feeling\n",
    "\n",
    "Logging\n",
    "log everything, log authomaticaly. Don't trust applications to log on their side\n",
    "\n",
    "Security\n",
    "by default assume not-safe\n",
    "\"\"\"\n",
    "prompt = [\n",
    "    ('system', 'You are preparing to write new article. Follow the instruction in the schema. You can chance title and/or provided summary. You sources are' + '\\n'.join(articles)),\n",
    "    ('user', f'Prepare outline and plan for new article. Initial thoughts {initial}')]"
   ]
  },
  {
   "cell_type": "code",
   "execution_count": 6,
   "id": "b7ceedfb-a2a6-476a-84af-290b9696852d",
   "metadata": {},
   "outputs": [],
   "source": [
    "g_model = ChatVertexAI(model='gemini-1.5-pro-002', temperature=2, top_k=40, top_n=1)\n",
    "e_model = ChatVertexAI(model='gemini-1.5-flash-002')"
   ]
  },
  {
   "cell_type": "code",
   "execution_count": 7,
   "id": "464c11da-31e2-44ec-a578-3a965fbe2f57",
   "metadata": {},
   "outputs": [],
   "source": [
    "response, outline = generate_extract(\n",
    "    question=prompt,\n",
    "    generate_model=g_model,\n",
    "    schema=Outline,\n",
    "    extract_model=e_model)"
   ]
  },
  {
   "cell_type": "code",
   "execution_count": 8,
   "id": "a1f1f5ee-e496-4841-9282-4dfce9b07a4c",
   "metadata": {},
   "outputs": [
    {
     "data": {
      "text/plain": [
       "Section(name='Introduction', points=['Hook: Start with a compelling anecdote or statistic about the potential of GenAI.', 'Thesis: GenAI offers significant benefits even in legacy environments, but requires a tailored approach compared to startups.', 'Briefly introduce the key challenges and opportunities (foreshadowing the later sections).'], summary='Introduce the topic and set the stage for the rest of the article.', experts=['Eugene Yan', 'Bryan Bischof', 'Charles Frye', 'Hamel Husain', 'Jason Liu', 'Shreya Shankar'])"
      ]
     },
     "execution_count": 8,
     "metadata": {},
     "output_type": "execute_result"
    }
   ],
   "source": [
    "outline.sections[0]"
   ]
  },
  {
   "cell_type": "code",
   "execution_count": 9,
   "id": "f62aa612-557f-4573-8eea-503664847154",
   "metadata": {},
   "outputs": [
    {
     "data": {
      "text/markdown": [
       "## Article Outline & Plan: GenAI in a Legacy Environment\n",
       "\n",
       "**Title:**  Taming the Legacy Beast: Unleashing the Power of Generative AI in Established Organizations\n",
       "\n",
       "**Summary:** Generative AI offers transformative potential, even within the constraints of legacy systems. This article explores the unique challenges and significant advantages of implementing GenAI in established organizations, providing practical approaches for successful integration.  We'll delve into evaluating existing processes, adapting legacy applications, prompt engineering strategies, evaluation methods, essential logging practices, and crucial security considerations.\n",
       "\n",
       "**I. Introduction**\n",
       "\n",
       "* Hook: Start with a compelling anecdote or statistic about the potential of GenAI.\n",
       "* Thesis:  GenAI offers significant benefits even in legacy environments, but requires a tailored approach compared to startups.\n",
       "* Briefly introduce the key challenges and opportunities (foreshadowing the later sections).\n",
       "\n",
       "\n",
       "**II. The Legacy Landscape: Challenges & Opportunities**\n",
       "\n",
       "* Existing Processes:\n",
       "    * The temptation (and danger) of automating potentially ineffective processes.\n",
       "    *  Emphasize the need for optimization before automation. \n",
       "    * Case study illustrating a successful vs. unsuccessful automation attempt.\n",
       "* Legacy Applications & API Readiness:\n",
       "    *  Discuss common issues with API integration in older systems. \n",
       "    * Highlight approaches to overcome these challenges (e.g., wrappers, adapters).\n",
       "* Documentation and Data Integrity:\n",
       "    * \"final1.doc vs. final2.doc\" problem. \n",
       "    * Stress the need for data cleaning, validation, and potentially implementing version control systems.\n",
       "\n",
       "\n",
       "**III.  Practical Approaches for GenAI Implementation**\n",
       "\n",
       "* Starting Small and Focused:\n",
       "    * Why a focused approach trumps scattered brainstorming in a legacy setting. \n",
       "    * Examples of successful small-scale GenAI projects.\n",
       "* Business-Driven Development: \n",
       "    * Importance of clear business outcomes and measurable goals.\n",
       "    * Show how business requirements translate to technical scenarios (input/output).\n",
       "* Translating Business Goals into Scenarios:\n",
       "    * Detailed examples of how business needs transform into defined scenarios.\n",
       "    * Demonstrate clear input/output definitions to drive eval development.\n",
       "\n",
       "\n",
       "\n",
       "**IV.  Evaluation: A Critical Component**\n",
       "\n",
       "* Human Evaluation in the Loop:\n",
       "    * Why it remains crucial even with automated methods.\n",
       "    * Explain different methods of human evaluation: user studies, expert reviews, pairwise comparison.\n",
       "*  LLM as a Judge:\n",
       "    * Introduce using LLMs for automated evaluation.\n",
       "    * Explain its strengths and limitations. \n",
       "    * Practical guidelines for using LLMs for effective evaluation.\n",
       "\n",
       "\n",
       "**V.  Prompt Engineering for Legacy Environments**\n",
       "\n",
       "* Decomposition and Management:\n",
       "    * Importance of splitting complex tasks into smaller, manageable prompts. \n",
       "    * How smaller prompts simplify evaluation and create a more transparent (\"less black box\") process.\n",
       "\n",
       "\n",
       "**VI. Logging:  Leave No Trace Behind**\n",
       "\n",
       "* The Need for Comprehensive Logging:\n",
       "    * \"Log everything, automatically\" principle.  \n",
       "    * Importance of not relying solely on application-level logging.\n",
       "    * Discuss potential tooling/frameworks for automated GenAI logging.\n",
       "\n",
       "\n",
       "**VII.  Security in Legacy + GenAI: A Proactive Approach**\n",
       "\n",
       "* A \"Not-Safe by Default\" Mentality:\n",
       "    * Emphasize starting with strong security assumptions. \n",
       "    * Discuss potential vulnerabilities when integrating GenAI with legacy systems.\n",
       "    * Suggest best practices for threat modeling and mitigating risks (data validation, input sanitization, etc.)\n",
       "\n",
       "\n",
       "\n",
       "**VIII.  Conclusion**\n",
       "\n",
       "* Reiterate the benefits and challenges of integrating GenAI in legacy environments. \n",
       "* Provide a positive outlook – with careful planning and execution, legacy organizations can successfully harness GenAI for business gains. \n",
       "*  Offer a final call to action. \n",
       "\n",
       "\n",
       "\n",
       "\n",
       "**Plan:**\n",
       "\n",
       "1. **Research & Examples:** Gather real-world examples of GenAI projects in legacy environments, successful or otherwise, to illustrate key points.\n",
       "2. **Technical Depth:**  Ensure adequate technical detail in sections about APIs, logging, and security. Consider code snippets or architecture diagrams for complex scenarios. \n",
       "3. **Target Audience:** Tailor the language and examples for the intended audience (e.g., business leaders, developers, or both). \n",
       "4. **Clarity and Conciseness:**  Strive for easy-to-understand language and avoid excessive jargon. \n",
       "5. **Visuals:** Consider images, charts, or diagrams where helpful.\n",
       "\n",
       "\n",
       "\n",
       "\n",
       "This comprehensive plan and outline will guide the writing process and create a focused, valuable, and practical article for navigating GenAI integration within the unique complexities of a legacy organizational environment. \n"
      ],
      "text/plain": [
       "<IPython.core.display.Markdown object>"
      ]
     },
     "execution_count": 9,
     "metadata": {},
     "output_type": "execute_result"
    }
   ],
   "source": [
    "Markdown(response)"
   ]
  },
  {
   "cell_type": "code",
   "execution_count": 15,
   "id": "1b938a6b-bd8f-4f19-86de-9ccd71d0612f",
   "metadata": {},
   "outputs": [],
   "source": [
    "with open('article.md', 'w+') as f:\n",
    "    f.write(response)"
   ]
  },
  {
   "cell_type": "code",
   "execution_count": null,
   "id": "8ff59c63-0167-4e0e-8fee-41b7e9bd463a",
   "metadata": {},
   "outputs": [],
   "source": []
  }
 ],
 "metadata": {
  "kernelspec": {
   "display_name": "Python 3 (ipykernel)",
   "language": "python",
   "name": "python3"
  },
  "language_info": {
   "codemirror_mode": {
    "name": "ipython",
    "version": 3
   },
   "file_extension": ".py",
   "mimetype": "text/x-python",
   "name": "python",
   "nbconvert_exporter": "python",
   "pygments_lexer": "ipython3",
   "version": "3.10.12"
  }
 },
 "nbformat": 4,
 "nbformat_minor": 5
}
