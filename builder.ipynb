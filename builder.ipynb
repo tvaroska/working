{
 "cells": [
  {
   "cell_type": "code",
   "execution_count": 1,
   "id": "4e4fbb46-53a2-45d6-984f-56eedfebaf3d",
   "metadata": {},
   "outputs": [],
   "source": [
    "from typing import List\n",
    "from pydantic import BaseModel, Field\n",
    "\n",
    "from langchain_google_vertexai import ChatVertexAI\n",
    "\n",
    "from article.sources import sources\n",
    "from article.utils import flatten_openapi\n",
    "\n",
    "import mistune\n",
    "from IPython.display import Markdown"
   ]
  },
  {
   "cell_type": "code",
   "execution_count": 2,
   "id": "3e318d81-f7eb-4bd3-8df3-8035245f79d9",
   "metadata": {},
   "outputs": [],
   "source": [
    "class Section(BaseModel):\n",
    "    name: str = Field(title='Name/title of the section')\n",
    "    points: List[str] = Field(title='List of no more than 3 main points for this section')\n",
    "    summary: str = Field(title=\"Summary of the section in 20-50 words\")\n",
    "    experts: List[str] = Field(title=\"List of 3-5 experts roles/descrptions who can help with article by providing feedback\")\n",
    "\n",
    "    def __str__(self):\n",
    "        return f'## {self.name}\\n{self.summary}\\n\\n'+','.join(self.points)\n",
    "\n",
    "class Outline(BaseModel):\n",
    "    title: str = Field(title=\"Title of the article\")\n",
    "    summary: str = Field(title=\"Summary of the article in 20-50 words\")\n",
    "    sections: List[Section]\n",
    "\n",
    "    def __str__(self):\n",
    "        return f'# {self.title}\\n{self.summary}\\n\\n' + '\\n'.join([str(x) for x in self.sections])"
   ]
  },
  {
   "cell_type": "code",
   "execution_count": 3,
   "id": "c07a51f4-a3b4-4bb5-b61a-b3cb51c0b607",
   "metadata": {},
   "outputs": [],
   "source": [
    "articles = sources()\n",
    "style_articles = [x[1] for x in articles if x[0].startswith('data/oreilly')]\n",
    "articles = [x[1] for x in articles]"
   ]
  },
  {
   "cell_type": "markdown",
   "id": "8722d494-f5b8-4663-ac06-6a8093a4fcb5",
   "metadata": {},
   "source": [
    "### Get style guid\n",
    "\n",
    "Replicate article style"
   ]
  },
  {
   "cell_type": "code",
   "execution_count": 32,
   "id": "d629abc2-6221-4434-821c-9b4d9cc3bbd4",
   "metadata": {},
   "outputs": [],
   "source": [
    "prompt = [\n",
    "    ('system', 'You are analyzing articles. You sources are' + '\\n'.join(style_articles)),\n",
    "    ('user', 'Give concise descrition of audeince and style of those articles. Write it as recommendation for another authors to follow when writting simmilar articles. Create sections: Audience, Style, Recommendations. Use Heading 2 for section')\n",
    "]"
   ]
  },
  {
   "cell_type": "code",
   "execution_count": 7,
   "id": "c6d08dc8-232c-4036-b16d-bc21ef18a588",
   "metadata": {},
   "outputs": [],
   "source": [
    "model = ChatVertexAI(model='gemini-1.5-flash-002')"
   ]
  },
  {
   "cell_type": "code",
   "execution_count": 8,
   "id": "a16e1b1e-41b1-4a32-a97e-aebebca38bc6",
   "metadata": {},
   "outputs": [],
   "source": [
    "response = model.invoke(prompt)"
   ]
  },
  {
   "cell_type": "code",
   "execution_count": 9,
   "id": "cb4af8c3-6cd9-435e-8d38-d77aaa5590e6",
   "metadata": {},
   "outputs": [],
   "source": [
    "style_guide = response.content"
   ]
  },
  {
   "cell_type": "code",
   "execution_count": 10,
   "id": "77c51691-b030-4ab1-be4f-2d4442df8649",
   "metadata": {},
   "outputs": [
    {
     "data": {
      "text/markdown": [
       "## Audience\n",
       "\n",
       "The target audience for these articles is a broad range of individuals and teams involved in building applications with Large Language Models (LLMs).  This includes practitioners with varying levels of machine learning expertise, from experienced engineers to hobbyist developers working on weekend projects.  The articles aim to be accessible to those without deep ML expertise while providing valuable insights for experienced professionals.\n",
       "\n",
       "\n",
       "## Style\n",
       "\n",
       "The writing style is conversational, practical, and opinionated. The authors share their personal experiences and lessons learned, making the content engaging and relatable.  They avoid overly technical jargon, preferring clear explanations and real-world examples.  The tone is collaborative and community-oriented, inviting reader engagement and discussion.  A blend of formal explanations with informal, almost conversational language is utilized.  The authors also use humor and relatable analogies to make complex topics more approachable.\n",
       "\n",
       "\n",
       "## Recommendations\n",
       "\n",
       "For authors writing similar articles about LLMs and their applications, consider the following:\n",
       "\n",
       "* **Target a diverse audience:**  Cater to a spectrum of technical skills, ensuring the content is accessible to both beginners and experts.\n",
       "* **Adopt a practical and conversational tone:**  Emphasize real-world applications, lessons learned, and relatable examples. Avoid excessive technical detail unless absolutely necessary.\n",
       "* **Incorporate personal experiences and anecdotes:**  Sharing personal experiences and lessons learned makes the content more engaging and relatable.\n",
       "* **Embrace a collaborative and community-oriented approach:**  Encourage reader feedback, interaction, and discussion.\n",
       "* **Balance formality and informality:**  While maintaining professionalism, use a conversational tone to increase reader engagement.\n",
       "* **Use visuals and examples effectively:**  Include charts, graphs, and code snippets to illustrate complex concepts and enhance understanding.\n",
       "* **Structure content logically:**  Break down information into digestible sections with clear headings and subheadings.\n",
       "* **Clearly define target audience and skill level:**  Ensure the chosen style aligns with the desired audience.\n",
       "* **Proofread carefully for clarity and consistency:**  Maintain high editorial standards to ensure credibility and readability.\n"
      ],
      "text/plain": [
       "<IPython.core.display.Markdown object>"
      ]
     },
     "execution_count": 10,
     "metadata": {},
     "output_type": "execute_result"
    }
   ],
   "source": [
    "Markdown(style_guide)"
   ]
  },
  {
   "cell_type": "code",
   "execution_count": 11,
   "id": "c8121c84-e15c-4cd9-868d-eb703f86d675",
   "metadata": {},
   "outputs": [],
   "source": [
    "markdown = mistune.create_markdown(renderer=None)\n",
    "sg = markdown(style_guide)\n",
    "style_sections = [x['children'][0]['raw'] for x in sg if x['type']=='heading']\n",
    "assert style_sections == ['Audience', 'Style', 'Recommendations']"
   ]
  },
  {
   "cell_type": "markdown",
   "id": "7eefe63e-f4e5-458e-92be-2320b8816ea3",
   "metadata": {},
   "source": [
    "### Create outline"
   ]
  },
  {
   "cell_type": "code",
   "execution_count": 22,
   "id": "b3a0fb9b-4858-4dd7-96fd-86de8a7fa101",
   "metadata": {},
   "outputs": [],
   "source": [
    "title = 'My experience with building GenAI Appls in legacy environments'\n",
    "summary = 'Building new applications in existing environment is always a challenge. We see a lot of GenAI applications in startups or smaller companies. How large companies with legacy IT architectures handle challenge with building GenAI apps.' \n",
    "\n",
    "prompt = [\n",
    "    ('system', 'You are preparing to write new article. Follow the instruction in the schema. You can chance title and/or provided summary. You sources are' + '\\n'.join(articles)),\n",
    "    ('user', f'Prepare outline and plan for new article. Article title {title}\\Description: {summary}\\nUse style guide: {style_guide}')\n",
    "]"
   ]
  },
  {
   "cell_type": "code",
   "execution_count": 13,
   "id": "b7ceedfb-a2a6-476a-84af-290b9696852d",
   "metadata": {},
   "outputs": [],
   "source": [
    "o_model = ChatVertexAI(model='gemini-1.5-pro-002').with_structured_output(schema=flatten_openapi(Outline.schema()), method='json_mode')"
   ]
  },
  {
   "cell_type": "code",
   "execution_count": 14,
   "id": "464c11da-31e2-44ec-a578-3a965fbe2f57",
   "metadata": {},
   "outputs": [],
   "source": [
    "response = o_model.invoke(prompt)"
   ]
  },
  {
   "cell_type": "code",
   "execution_count": 15,
   "id": "a1f1f5ee-e496-4841-9282-4dfce9b07a4c",
   "metadata": {},
   "outputs": [],
   "source": [
    "oresponse = Outline.parse_obj(response)"
   ]
  },
  {
   "cell_type": "code",
   "execution_count": 19,
   "id": "f62aa612-557f-4573-8eea-503664847154",
   "metadata": {},
   "outputs": [
    {
     "data": {
      "text/markdown": [
       "# My Experience with Building GenAI Applications in Legacy Environments\n",
       "This article explores the challenges and strategies for building GenAI applications in legacy IT environments. It also features real-world case studies of successful GenAI integrations.\n",
       "\n",
       "## Challenges of GenAI in Legacy Environments\n",
       "Legacy IT environments often present significant challenges when integrating GenAI applications. These include technical debt, data silos, security concerns, integration complexities, and talent gaps.\n",
       "\n",
       "Technical Debt and Compatibility Issues,Data Silos and Accessibility,Security and Compliance Concerns,Integration with Existing Workflows,Talent Acquisition and Upskilling\n",
       "## Strategies for Successful GenAI Integration\n",
       "To successfully integrate GenAI into legacy environments, companies must adopt strategies for modernization, data management, security, scalability, and innovation.\n",
       "\n",
       "Modernization and Cloud Migration,Data Integration and Management,Addressing Security and Compliance,Building Scalable and Reliable Systems,Fostering a Culture of Innovation\n",
       "## Real-World Case Studies\n",
       "Real-world case studies demonstrate how companies are effectively integrating GenAI into their legacy environments.\n",
       "\n",
       "[Company A] - Transforming Customer Service with GenAI,[Company B] - Automating Legacy Processes,[Company C] - Driving Innovation with AI-Powered Insights"
      ],
      "text/plain": [
       "<IPython.core.display.Markdown object>"
      ]
     },
     "execution_count": 19,
     "metadata": {},
     "output_type": "execute_result"
    }
   ],
   "source": [
    "Markdown(str(oresponse))"
   ]
  },
  {
   "cell_type": "code",
   "execution_count": 34,
   "id": "97ac1232-584b-47f4-bc99-6f970e98b02d",
   "metadata": {},
   "outputs": [],
   "source": [
    "prompt2 = prompt\n",
    "prompt2.append(('ai', str(oresponse)))"
   ]
  },
  {
   "cell_type": "code",
   "execution_count": 35,
   "id": "267e2604-b4f8-4bc5-aebe-5f7ffe99d3bc",
   "metadata": {},
   "outputs": [],
   "source": [
    "prompt2.append(('user', 'Change first section to more focus on difference betwen building app in new environment to doing the same thing in legacy (existing processes, API not ready for such apps, documents not avialable etc'))"
   ]
  },
  {
   "cell_type": "code",
   "execution_count": 36,
   "id": "4a1c7b6f-92c1-475a-818f-a07a200bb6fb",
   "metadata": {},
   "outputs": [],
   "source": [
    "response2 = o_model.invoke(prompt2)"
   ]
  },
  {
   "cell_type": "code",
   "execution_count": 38,
   "id": "89317237-61f2-4f9b-8c1b-ea09c0d2131b",
   "metadata": {},
   "outputs": [
    {
     "data": {
      "text/plain": [
       "{'sections': [{'experts': ['Software engineers',\n",
       "    'Data scientists',\n",
       "    'IT architects'],\n",
       "   'name': 'Challenges of Building GenAI Apps in Legacy Environments',\n",
       "   'points': ['Existing processes and APIs may not be compatible with GenAI applications.',\n",
       "    'Limited documentation can hinder integration efforts.',\n",
       "    'Data silos and security concerns pose additional challenges.',\n",
       "    'Talent gaps in AI/ML expertise can slow down development.'],\n",
       "   'summary': 'Building GenAI applications in legacy environments differs significantly from new environments. Existing processes, APIs, and documentation may not be ready for GenAI integration, requiring extra effort.'},\n",
       "  {'experts': ['Cloud architects', 'Data engineers', 'Security specialists'],\n",
       "   'name': 'Strategies for Successful GenAI Integration',\n",
       "   'points': ['Modernization and cloud migration are crucial for compatibility.',\n",
       "    'Data integration and management break down data silos.',\n",
       "    'Security and compliance must be addressed throughout the process.',\n",
       "    'Scalable and reliable systems ensure long-term success.',\n",
       "    \"Innovation and experimentation are key to maximizing GenAI's potential.\"],\n",
       "   'summary': 'Overcoming legacy environment challenges requires a multi-faceted approach. Modernization, data management, security, scalability, and innovation are key strategies for successful GenAI integration.'},\n",
       "  {'experts': ['Business analysts', 'Project managers', 'AI product managers'],\n",
       "   'name': 'Real-World Case Studies',\n",
       "   'points': ['[Company A] transformed customer service by integrating GenAI into its legacy CRM.',\n",
       "    '[Company B] automated legacy processes, saving time and resources.',\n",
       "    '[Company C] leveraged AI-powered insights to drive innovation and improve decision-making.'],\n",
       "   'summary': 'Real-world examples illustrate how companies are effectively integrating GenAI into legacy environments, showcasing the potential benefits and challenges.'}],\n",
       " 'summary': 'This document explores the challenges and strategies for building GenAI applications in legacy environments, providing practical advice and real-world examples. It emphasizes the strategic importance of modernization, data management, and security in successful GenAI integrations.',\n",
       " 'title': 'My Experience with Building GenAI Applications in Legacy Environments'}"
      ]
     },
     "execution_count": 38,
     "metadata": {},
     "output_type": "execute_result"
    }
   ],
   "source": [
    "response2"
   ]
  },
  {
   "cell_type": "code",
   "execution_count": null,
   "id": "1b938a6b-bd8f-4f19-86de-9ccd71d0612f",
   "metadata": {},
   "outputs": [],
   "source": []
  }
 ],
 "metadata": {
  "kernelspec": {
   "display_name": "Python 3 (ipykernel)",
   "language": "python",
   "name": "python3"
  },
  "language_info": {
   "codemirror_mode": {
    "name": "ipython",
    "version": 3
   },
   "file_extension": ".py",
   "mimetype": "text/x-python",
   "name": "python",
   "nbconvert_exporter": "python",
   "pygments_lexer": "ipython3",
   "version": "3.10.12"
  }
 },
 "nbformat": 4,
 "nbformat_minor": 5
}
