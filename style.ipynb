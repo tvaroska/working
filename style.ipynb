{
 "cells": [
  {
   "cell_type": "code",
   "execution_count": 1,
   "id": "4e4fbb46-53a2-45d6-984f-56eedfebaf3d",
   "metadata": {},
   "outputs": [],
   "source": [
    "from typing import List\n",
    "from pydantic import BaseModel, Field\n",
    "\n",
    "from langchain_google_vertexai import ChatVertexAI\n",
    "\n",
    "from article.sources import sources\n",
    "from article.utils import flatten_openapi, generate_extract\n",
    "\n",
    "import mistune\n",
    "from IPython.display import Markdown\n",
    "from tqdm.notebook import tqdm"
   ]
  },
  {
   "cell_type": "code",
   "execution_count": 2,
   "id": "a2fa2568-901b-4d8a-869e-e0a597bd9e31",
   "metadata": {},
   "outputs": [],
   "source": [
    "class StyleGuide(BaseModel):\n",
    "    audience: str\n",
    "    style: str\n",
    "    recommendations: List[str]"
   ]
  },
  {
   "cell_type": "code",
   "execution_count": 3,
   "id": "c07a51f4-a3b4-4bb5-b61a-b3cb51c0b607",
   "metadata": {},
   "outputs": [],
   "source": [
    "articles = sources()\n",
    "style_articles = [x[1] for x in articles if x[0].startswith('data/oreilly')]\n",
    "articles = [x[1] for x in articles]"
   ]
  },
  {
   "cell_type": "markdown",
   "id": "8722d494-f5b8-4663-ac06-6a8093a4fcb5",
   "metadata": {},
   "source": [
    "### Get style guide\n",
    "\n",
    "Replicate article style"
   ]
  },
  {
   "cell_type": "code",
   "execution_count": 4,
   "id": "d629abc2-6221-4434-821c-9b4d9cc3bbd4",
   "metadata": {},
   "outputs": [],
   "source": [
    "prompt = [\n",
    "    ('system', 'You are analyzing articles. You sources are' + '\\n'.join(style_articles)),\n",
    "    ('user', 'Give concise descrition of audience and style of those articles. Write it as recommendation for another authors to follow when writting simmilar articles. Create sections: Audience, Style, Recommendations. Use Heading 2 for section')\n",
    "]"
   ]
  },
  {
   "cell_type": "code",
   "execution_count": 5,
   "id": "c6d08dc8-232c-4036-b16d-bc21ef18a588",
   "metadata": {},
   "outputs": [],
   "source": [
    "gen_model = ChatVertexAI(model='gemini-1.5-pro-002', temperature=2, top_k=40, top_p=1)\n",
    "parse_model = ChatVertexAI(model='gemini-1.5-flash-002')"
   ]
  },
  {
   "cell_type": "code",
   "execution_count": 6,
   "id": "31e4e4e5-e626-4849-a4b5-34547a737f78",
   "metadata": {},
   "outputs": [
    {
     "data": {
      "application/vnd.jupyter.widget-view+json": {
       "model_id": "e8ce2cd1fd9a4601a542c813ae280af9",
       "version_major": 2,
       "version_minor": 0
      },
      "text/plain": [
       "  0%|          | 0/10 [00:00<?, ?it/s]"
      ]
     },
     "metadata": {},
     "output_type": "display_data"
    }
   ],
   "source": [
    "styles = []\n",
    "for i in tqdm(range(10)):\n",
    "    style = generate_extract(prompt, gen_model, StyleGuide, parse_model)\n",
    "    styles.append(style)"
   ]
  },
  {
   "cell_type": "markdown",
   "id": "c2887f68-fed8-4dcb-8f2f-f18ec9d257e3",
   "metadata": {},
   "source": [
    "### Consolidate all versions into one"
   ]
  },
  {
   "cell_type": "code",
   "execution_count": 7,
   "id": "031e476c-c33d-4bda-a5e0-5064c1739871",
   "metadata": {},
   "outputs": [],
   "source": [
    "prompt = \"Consolidate style guides into one concise guide and recommendation to new writers. Keep format as: Audience, Style and Recommendations. <STYLES>\"\n",
    "\n",
    "prompt = prompt + \"\\n\".join([f\"<STYLE-GUIDE>{i[0]}</STYLE-GUIDE>\" for i in styles]) + \"/STYLES\""
   ]
  },
  {
   "cell_type": "code",
   "execution_count": 9,
   "id": "8a6962f2-2bea-4499-a609-8c4b1025db20",
   "metadata": {},
   "outputs": [],
   "source": [
    "response = gen_model.invoke(prompt)"
   ]
  },
  {
   "cell_type": "code",
   "execution_count": 11,
   "id": "3ac0e7fe-dc11-468f-93d3-285678a1d0c0",
   "metadata": {},
   "outputs": [
    {
     "data": {
      "text/markdown": [
       "## Audience\n",
       "\n",
       "Technical professionals (ML engineers, data scientists, product managers, developers, technical leaders) building LLM-powered applications, ranging from beginners to experts.  A secondary audience includes managers and those wanting to be informed consumers of LLM tech.  Articles assume a base level of technical understanding.\n",
       "\n",
       "\n",
       "## Style\n",
       "\n",
       "Informative, practical, experience-driven, conversational. Mix strategie insight to highly-granular instructions down code-level insights when deemed apperciaty,.  Use real-world examples, client stories, analogies, humor + embedded imagery like charts in specific secitions and occasional direct emojis depending one expected expected format target reader or internal cominattions they frequent on team hence  balancing strategic guidance with actionable coding advice. Focus practical advice based in clear, quantifiable project impact by direct prompting implementations rather theory where applicability warrants more specifically directed demonstration benefit achieved without relying exclusiveley large company access limited constraints, rather giving direct starting examples directly targetabable with low end too across audience while showing upper enterprise tooling similarly. Maintain credible, clear narrative via consistent references to external reliable/reputable data + shared experience across publications; include individual work with community contributions fostering transparent awareness in fast moving, complex domains to grow awareness.. Deep dive core related sub domain topics where readers value added versus light cursory mention while keeping tight thematic consistency within each section end-deliveried actionable tips with hyperlinked resoure where deemed  appropriate or potentially help further reader independent investigations outside own research efforts presented presently to create an immersive environment. Use visual elements appropriately -- plots from primary  authored expeririments to simple high definition UI component pictures through complex interactive javascript based chart -- at section where content could be difficult by readers having different knowledge levels across the group with consistent section title convention including explicit  takeaway and optionally hyperlinked resource references related current subsections discussion for further research when able externally, too\n",
       "\n",
       "\n",
       "## Recommendations\n",
       "\n",
       "*   **Balance strategic & tactical when appropriat**.  Mix of best proven real world methods advice by case  with further specific deeper concept breakdowns toward core areas whenever relevant for specific audience hence however; always inclue action  items backed from recent projects or case demonstrations plus code and even or plots direct generated even too through primary authored research data whenever making quantiifiable case comparisons if suitable for deeper clarity improvement.. Ground advice w real-world and personal examples also quantifying wins  by cost when clear comparison make point immediately actionable through example demonstration.\n",
       "* **Engagement & Clarity at forefront:** Write conversational with consistent narrative backed industry standards.   Incorporate external relevant hyperlinked publications where appropera make transparent deep engagement fast moving environment easy across segments.. Use imagery strategically support or sometimes alone demonstrate point only needing visual proof (complex trend on graph across conditions at varying xaxis unit, screenshot from primary authored experimental results plots to images comparing specific implementation aspects directly) rather only numerical outputs sometimes as more digestible knowledge..  Include call-to further actions always where directly applied or feasible within the readers expected range.. Inject humor in tone for increase interest from readers  reduce distance between writer therefore engaging even more and fostering better comprehension especially about hard subject thus more easily also memorable too perhaps due positive affective  valence generated via..\n",
       "*  **Structure narrative using story backed examples including relevant expert contributions if easily obtained like one with Bryan above at early product planning:**    Engage through rich real world use narratives and including when readily reachable input community contributions for adding color further interest hence for better reading making clear which individual’ own insights separate if applicable/shared among group's final overall conclusions too! This fosters deeper readership community while giving wider transparency on project impact plus overall shared effort amongst contributors through demonstration diversity input within published work as team now potentially wider into bigger comnmnunities also!"
      ],
      "text/plain": [
       "<IPython.core.display.Markdown object>"
      ]
     },
     "execution_count": 11,
     "metadata": {},
     "output_type": "execute_result"
    }
   ],
   "source": [
    "Markdown(response.content)"
   ]
  },
  {
   "cell_type": "code",
   "execution_count": null,
   "id": "7e0657d4-2c6d-4dde-9196-ca1b52acc747",
   "metadata": {},
   "outputs": [],
   "source": [
    "with open('styl"
   ]
  }
 ],
 "metadata": {
  "kernelspec": {
   "display_name": "Python 3 (ipykernel)",
   "language": "python",
   "name": "python3"
  },
  "language_info": {
   "codemirror_mode": {
    "name": "ipython",
    "version": 3
   },
   "file_extension": ".py",
   "mimetype": "text/x-python",
   "name": "python",
   "nbconvert_exporter": "python",
   "pygments_lexer": "ipython3",
   "version": "3.10.12"
  }
 },
 "nbformat": 4,
 "nbformat_minor": 5
}
