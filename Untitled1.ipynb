{
 "cells": [
  {
   "cell_type": "code",
   "execution_count": 16,
   "id": "727d1cd9-b4f5-4d7a-971c-e0ad114ef515",
   "metadata": {},
   "outputs": [],
   "source": [
    "import uuid\n",
    "\n",
    "from pydantic import BaseModel, Field\n",
    "\n",
    "from langchain_google_vertexai import ChatVertexAI\n",
    "from langchain_google_vertexai.model_garden import ChatAnthropicVertex\n",
    "\n",
    "from IPython.display import Markdown"
   ]
  },
  {
   "cell_type": "code",
   "execution_count": 11,
   "id": "30fb2632-a4db-4926-b683-892da56e450b",
   "metadata": {},
   "outputs": [],
   "source": [
    "class Content(BaseModel):\n",
    "    id: uuid.UUID = Field(default_factory=uuid.uuid4)\n",
    "    page_content: str\n",
    "\n",
    "    def to_xml(self, tag = 'ITEM'):\n",
    "        return f'<{tag} id={self.id}>{self.page_content}</{tag}'"
   ]
  },
  {
   "cell_type": "code",
   "execution_count": 12,
   "id": "c34a593c-39f1-4b7a-887e-c91ade5823f2",
   "metadata": {},
   "outputs": [
    {
     "data": {
      "text/plain": [
       "'<ITEM id=5b6d4d4b-d73c-4135-aace-1090d03ab4e8>Boris is 51 years old</ITEM'"
      ]
     },
     "execution_count": 12,
     "metadata": {},
     "output_type": "execute_result"
    }
   ],
   "source": [
    "Content(page_content=\"Boris is 51 years old\").to_xml()"
   ]
  },
  {
   "cell_type": "code",
   "execution_count": 27,
   "id": "ac4ecd6e-da48-4db4-8247-e95758aad0e3",
   "metadata": {},
   "outputs": [],
   "source": [
    "model = ChatVertexAI(model='gemini-1.5-flash-002')\n",
    "#model = ChatAnthropicVertex(model='claude-3-5-sonnet-v2@20241022', location='us-east5')"
   ]
  },
  {
   "cell_type": "code",
   "execution_count": 28,
   "id": "fb46d5ee-6003-4de7-8086-aa93f453bb3b",
   "metadata": {},
   "outputs": [],
   "source": [
    "prompt = f\"\"\"Respond user question in Markdown format. List IDs of content items used to answer the question. List no more than 3 IDs. List ID's with number acording the impact on the answer. Use heading Answer to put answer and References for list of ID's.\n",
    "<CONTENT>\n",
    "{Content(page_content='Boris is 51 years old').to_xml()}\n",
    "{Content(page_content='Today is December 5th, 2024').to_xml()}\n",
    "{Content(page_content='Boris is younger of two kids').to_xml()}\n",
    "{Content(page_content='Boris celebrated his birthday yesterday').to_xml()}\n",
    "</CONTENT>\n",
    "\n",
    "<QUESTION>What is Boris's DOB?</QUESTION>\n",
    "\"\"\""
   ]
  },
  {
   "cell_type": "code",
   "execution_count": 29,
   "id": "179e5531-26f4-49ab-b59e-1a1ae50fb207",
   "metadata": {},
   "outputs": [],
   "source": [
    "response = model.invoke(prompt)"
   ]
  },
  {
   "cell_type": "code",
   "execution_count": 30,
   "id": "72328ba7-8e8c-4a94-ac7c-f75ea43f536d",
   "metadata": {},
   "outputs": [
    {
     "data": {
      "text/markdown": [
       "## Answer\n",
       "\n",
       "Boris's birthday was yesterday, December 4th, 2024, and he is 51 years old.  Therefore, his date of birth is December 4th, 1973.\n",
       "\n",
       "\n",
       "## References\n",
       "\n",
       "1. 009fb2dd-450b-44d5-9b73-ffa9b6b97f17 (High impact: States that Boris celebrated his birthday yesterday)\n",
       "2. aac56d12-b4d7-4598-88af-637efca4ab9b (High impact: Provides Boris's current age)\n",
       "3. dbd822c1-4e39-4414-9962-dea0cdb47ae1 (Medium impact: Gives the current date, allowing calculation of his DOB)\n",
       "\n"
      ],
      "text/plain": [
       "<IPython.core.display.Markdown object>"
      ]
     },
     "execution_count": 30,
     "metadata": {},
     "output_type": "execute_result"
    }
   ],
   "source": [
    "Markdown(response.content)"
   ]
  },
  {
   "cell_type": "code",
   "execution_count": null,
   "id": "86630f6a-2a3a-4abc-9aa1-aee221686b49",
   "metadata": {},
   "outputs": [],
   "source": []
  }
 ],
 "metadata": {
  "kernelspec": {
   "display_name": "Python 3 (ipykernel)",
   "language": "python",
   "name": "python3"
  },
  "language_info": {
   "codemirror_mode": {
    "name": "ipython",
    "version": 3
   },
   "file_extension": ".py",
   "mimetype": "text/x-python",
   "name": "python",
   "nbconvert_exporter": "python",
   "pygments_lexer": "ipython3",
   "version": "3.10.12"
  }
 },
 "nbformat": 4,
 "nbformat_minor": 5
}
