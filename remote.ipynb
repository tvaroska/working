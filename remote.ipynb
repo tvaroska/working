{
 "cells": [
  {
   "cell_type": "code",
   "execution_count": 10,
   "id": "ad0569ba-1057-4292-a274-5187ab8ddbec",
   "metadata": {},
   "outputs": [],
   "source": [
    "from langgraph.pregel.remote import RemoteGraph\n",
    "\n",
    "url = 'http://localhost:8123'\n",
    "graph_name = \"my_agent\"\n",
    "app = RemoteGraph(graph_name, url=url)\n",
    "\n",
    "QUERY = \"How many account does James Smith (credit card number 8248) have?\""
   ]
  },
  {
   "cell_type": "code",
   "execution_count": 15,
   "id": "5b641d7d-9aab-44b6-8bf0-0098cff1abfc",
   "metadata": {},
   "outputs": [
    {
     "name": "stdout",
     "output_type": "stream",
     "text": [
      "{'messages': [{'content': 'How many account does James Smith (credit card number 8248) have?', 'additional_kwargs': {}, 'response_metadata': {}, 'type': 'human', 'name': None, 'id': '076a02e8-07b8-408a-8b73-095b34ae57e7', 'example': False}]}\n",
      "---------------\n",
      "{'messages': [{'content': 'How many account does James Smith (credit card number 8248) have?', 'additional_kwargs': {}, 'response_metadata': {}, 'type': 'human', 'name': None, 'id': '076a02e8-07b8-408a-8b73-095b34ae57e7', 'example': False}, {'content': '', 'additional_kwargs': {'function_call': {'name': 'identify_user', 'arguments': '{\"credit_card_last_four\": \"8248\", \"first_name\": \"James\", \"last_name\": \"Smith\"}'}}, 'response_metadata': {'is_blocked': False, 'safety_ratings': [], 'usage_metadata': {'prompt_token_count': 200, 'candidates_token_count': 22, 'total_token_count': 222, 'cached_content_token_count': 0}, 'finish_reason': 'STOP', 'avg_logprobs': -9.428474434323355e-07}, 'type': 'ai', 'name': None, 'id': 'run-ca2878a4-355c-436d-a2e4-c9362fe46d67-0', 'example': False, 'tool_calls': [{'name': 'identify_user', 'args': {'credit_card_last_four': '8248', 'first_name': 'James', 'last_name': 'Smith'}, 'id': '6489f46f-e567-4e82-9333-d5389fd20e14', 'type': 'tool_call'}], 'invalid_tool_calls': [], 'usage_metadata': {'input_tokens': 200, 'output_tokens': 22, 'total_tokens': 222}}]}\n",
      "---------------\n",
      "{'messages': [{'content': 'How many account does James Smith (credit card number 8248) have?', 'additional_kwargs': {}, 'response_metadata': {}, 'type': 'human', 'name': None, 'id': '076a02e8-07b8-408a-8b73-095b34ae57e7', 'example': False}, {'content': '', 'additional_kwargs': {'function_call': {'name': 'identify_user', 'arguments': '{\"credit_card_last_four\": \"8248\", \"first_name\": \"James\", \"last_name\": \"Smith\"}'}}, 'response_metadata': {'is_blocked': False, 'safety_ratings': [], 'usage_metadata': {'prompt_token_count': 200, 'candidates_token_count': 22, 'total_token_count': 222, 'cached_content_token_count': 0}, 'finish_reason': 'STOP', 'avg_logprobs': -9.428474434323355e-07}, 'type': 'ai', 'name': None, 'id': 'run-ca2878a4-355c-436d-a2e4-c9362fe46d67-0', 'example': False, 'tool_calls': [{'name': 'identify_user', 'args': {'credit_card_last_four': '8248', 'first_name': 'James', 'last_name': 'Smith'}, 'id': '6489f46f-e567-4e82-9333-d5389fd20e14', 'type': 'tool_call'}], 'invalid_tool_calls': [], 'usage_metadata': {'input_tokens': 200, 'output_tokens': 22, 'total_tokens': 222}}, {'content': 'User ID = 1', 'additional_kwargs': {}, 'response_metadata': {}, 'type': 'tool', 'name': 'identify_user', 'id': 'de60ddee-75d9-4620-b0c9-ae6a2c7a725c', 'tool_call_id': '6489f46f-e567-4e82-9333-d5389fd20e14', 'artifact': None, 'status': 'success'}], 'user_id': 1}\n",
      "---------------\n",
      "{'messages': [{'content': 'How many account does James Smith (credit card number 8248) have?', 'additional_kwargs': {}, 'response_metadata': {}, 'type': 'human', 'name': None, 'id': '076a02e8-07b8-408a-8b73-095b34ae57e7', 'example': False}, {'content': '', 'additional_kwargs': {'function_call': {'name': 'identify_user', 'arguments': '{\"credit_card_last_four\": \"8248\", \"first_name\": \"James\", \"last_name\": \"Smith\"}'}}, 'response_metadata': {'is_blocked': False, 'safety_ratings': [], 'usage_metadata': {'prompt_token_count': 200, 'candidates_token_count': 22, 'total_token_count': 222, 'cached_content_token_count': 0}, 'finish_reason': 'STOP', 'avg_logprobs': -9.428474434323355e-07}, 'type': 'ai', 'name': None, 'id': 'run-ca2878a4-355c-436d-a2e4-c9362fe46d67-0', 'example': False, 'tool_calls': [{'name': 'identify_user', 'args': {'credit_card_last_four': '8248', 'first_name': 'James', 'last_name': 'Smith'}, 'id': '6489f46f-e567-4e82-9333-d5389fd20e14', 'type': 'tool_call'}], 'invalid_tool_calls': [], 'usage_metadata': {'input_tokens': 200, 'output_tokens': 22, 'total_tokens': 222}}, {'content': 'User ID = 1', 'additional_kwargs': {}, 'response_metadata': {}, 'type': 'tool', 'name': 'identify_user', 'id': 'de60ddee-75d9-4620-b0c9-ae6a2c7a725c', 'tool_call_id': '6489f46f-e567-4e82-9333-d5389fd20e14', 'artifact': None, 'status': 'success'}, {'content': '', 'additional_kwargs': {'function_call': {'name': 'get_user_details', 'arguments': '{\"user_id\": 1.0}'}}, 'response_metadata': {'is_blocked': False, 'safety_ratings': [], 'usage_metadata': {'prompt_token_count': 231, 'candidates_token_count': 8, 'total_token_count': 239, 'cached_content_token_count': 0}, 'finish_reason': 'STOP', 'avg_logprobs': -0.0002721157216001302}, 'type': 'ai', 'name': None, 'id': 'run-4f2c69f2-bb65-4f77-9b10-58468e9fb844-0', 'example': False, 'tool_calls': [{'name': 'get_user_details', 'args': {'user_id': 1.0}, 'id': '59d826dd-3ed7-450e-9470-6b9aa666d104', 'type': 'tool_call'}], 'invalid_tool_calls': [], 'usage_metadata': {'input_tokens': 231, 'output_tokens': 8, 'total_tokens': 239}}], 'user_id': 1}\n",
      "---------------\n",
      "{'messages': [{'content': 'How many account does James Smith (credit card number 8248) have?', 'additional_kwargs': {}, 'response_metadata': {}, 'type': 'human', 'name': None, 'id': '076a02e8-07b8-408a-8b73-095b34ae57e7', 'example': False}, {'content': '', 'additional_kwargs': {'function_call': {'name': 'identify_user', 'arguments': '{\"credit_card_last_four\": \"8248\", \"first_name\": \"James\", \"last_name\": \"Smith\"}'}}, 'response_metadata': {'is_blocked': False, 'safety_ratings': [], 'usage_metadata': {'prompt_token_count': 200, 'candidates_token_count': 22, 'total_token_count': 222, 'cached_content_token_count': 0}, 'finish_reason': 'STOP', 'avg_logprobs': -9.428474434323355e-07}, 'type': 'ai', 'name': None, 'id': 'run-ca2878a4-355c-436d-a2e4-c9362fe46d67-0', 'example': False, 'tool_calls': [{'name': 'identify_user', 'args': {'credit_card_last_four': '8248', 'first_name': 'James', 'last_name': 'Smith'}, 'id': '6489f46f-e567-4e82-9333-d5389fd20e14', 'type': 'tool_call'}], 'invalid_tool_calls': [], 'usage_metadata': {'input_tokens': 200, 'output_tokens': 22, 'total_tokens': 222}}, {'content': 'User ID = 1', 'additional_kwargs': {}, 'response_metadata': {}, 'type': 'tool', 'name': 'identify_user', 'id': 'de60ddee-75d9-4620-b0c9-ae6a2c7a725c', 'tool_call_id': '6489f46f-e567-4e82-9333-d5389fd20e14', 'artifact': None, 'status': 'success'}, {'content': '', 'additional_kwargs': {'function_call': {'name': 'get_user_details', 'arguments': '{\"user_id\": 1.0}'}}, 'response_metadata': {'is_blocked': False, 'safety_ratings': [], 'usage_metadata': {'prompt_token_count': 231, 'candidates_token_count': 8, 'total_token_count': 239, 'cached_content_token_count': 0}, 'finish_reason': 'STOP', 'avg_logprobs': -0.0002721157216001302}, 'type': 'ai', 'name': None, 'id': 'run-4f2c69f2-bb65-4f77-9b10-58468e9fb844-0', 'example': False, 'tool_calls': [{'name': 'get_user_details', 'args': {'user_id': 1.0}, 'id': '59d826dd-3ed7-450e-9470-6b9aa666d104', 'type': 'tool_call'}], 'invalid_tool_calls': [], 'usage_metadata': {'input_tokens': 231, 'output_tokens': 8, 'total_tokens': 239}}, {'content': \"{'user': {'id': 1, 'name': {'first': 'James', 'last': 'Smith'}, 'DOB': datetime.date(1982, 5, 8)}, 'accounts': [{'account_no': 6504876475938248, 'user': 1, 'type': 'CREDIT'}, {'account_no': 4948924115781567, 'user': 1, 'type': 'CHECKING'}]}\", 'additional_kwargs': {}, 'response_metadata': {}, 'type': 'tool', 'name': 'get_user_details', 'id': '1ea02690-8f31-455a-84ce-465d3ed00fc0', 'tool_call_id': '59d826dd-3ed7-450e-9470-6b9aa666d104', 'artifact': None, 'status': 'success'}], 'user_id': 1}\n",
      "---------------\n",
      "{'messages': [{'content': 'How many account does James Smith (credit card number 8248) have?', 'additional_kwargs': {}, 'response_metadata': {}, 'type': 'human', 'name': None, 'id': '076a02e8-07b8-408a-8b73-095b34ae57e7', 'example': False}, {'content': '', 'additional_kwargs': {'function_call': {'name': 'identify_user', 'arguments': '{\"credit_card_last_four\": \"8248\", \"first_name\": \"James\", \"last_name\": \"Smith\"}'}}, 'response_metadata': {'is_blocked': False, 'safety_ratings': [], 'usage_metadata': {'prompt_token_count': 200, 'candidates_token_count': 22, 'total_token_count': 222, 'cached_content_token_count': 0}, 'finish_reason': 'STOP', 'avg_logprobs': -9.428474434323355e-07}, 'type': 'ai', 'name': None, 'id': 'run-ca2878a4-355c-436d-a2e4-c9362fe46d67-0', 'example': False, 'tool_calls': [{'name': 'identify_user', 'args': {'credit_card_last_four': '8248', 'first_name': 'James', 'last_name': 'Smith'}, 'id': '6489f46f-e567-4e82-9333-d5389fd20e14', 'type': 'tool_call'}], 'invalid_tool_calls': [], 'usage_metadata': {'input_tokens': 200, 'output_tokens': 22, 'total_tokens': 222}}, {'content': 'User ID = 1', 'additional_kwargs': {}, 'response_metadata': {}, 'type': 'tool', 'name': 'identify_user', 'id': 'de60ddee-75d9-4620-b0c9-ae6a2c7a725c', 'tool_call_id': '6489f46f-e567-4e82-9333-d5389fd20e14', 'artifact': None, 'status': 'success'}, {'content': '', 'additional_kwargs': {'function_call': {'name': 'get_user_details', 'arguments': '{\"user_id\": 1.0}'}}, 'response_metadata': {'is_blocked': False, 'safety_ratings': [], 'usage_metadata': {'prompt_token_count': 231, 'candidates_token_count': 8, 'total_token_count': 239, 'cached_content_token_count': 0}, 'finish_reason': 'STOP', 'avg_logprobs': -0.0002721157216001302}, 'type': 'ai', 'name': None, 'id': 'run-4f2c69f2-bb65-4f77-9b10-58468e9fb844-0', 'example': False, 'tool_calls': [{'name': 'get_user_details', 'args': {'user_id': 1.0}, 'id': '59d826dd-3ed7-450e-9470-6b9aa666d104', 'type': 'tool_call'}], 'invalid_tool_calls': [], 'usage_metadata': {'input_tokens': 231, 'output_tokens': 8, 'total_tokens': 239}}, {'content': \"{'user': {'id': 1, 'name': {'first': 'James', 'last': 'Smith'}, 'DOB': datetime.date(1982, 5, 8)}, 'accounts': [{'account_no': 6504876475938248, 'user': 1, 'type': 'CREDIT'}, {'account_no': 4948924115781567, 'user': 1, 'type': 'CHECKING'}]}\", 'additional_kwargs': {}, 'response_metadata': {}, 'type': 'tool', 'name': 'get_user_details', 'id': '1ea02690-8f31-455a-84ce-465d3ed00fc0', 'tool_call_id': '59d826dd-3ed7-450e-9470-6b9aa666d104', 'artifact': None, 'status': 'success'}, {'content': 'James Smith has 2 accounts.', 'additional_kwargs': {}, 'response_metadata': {'is_blocked': False, 'safety_ratings': [], 'usage_metadata': {'prompt_token_count': 364, 'candidates_token_count': 7, 'total_token_count': 371, 'cached_content_token_count': 0}, 'finish_reason': 'STOP', 'avg_logprobs': -2.6907751557051337e-06}, 'type': 'ai', 'name': None, 'id': 'run-271fd5af-3a80-4c9d-bf83-7ae746702637-0', 'example': False, 'tool_calls': [], 'invalid_tool_calls': [], 'usage_metadata': {'input_tokens': 364, 'output_tokens': 7, 'total_tokens': 371}}], 'user_id': 1}\n",
      "---------------\n"
     ]
    }
   ],
   "source": [
    "for chunk in app.stream({\"messages\": [(\"human\", QUERY)]}, stream_mode=\"values\"):\n",
    "    print(chunk)\n",
    "    print(15*'-')"
   ]
  },
  {
   "cell_type": "code",
   "execution_count": null,
   "id": "1409d338-6bd0-4120-bd37-ce19c456cf9a",
   "metadata": {},
   "outputs": [],
   "source": [
    "app.invoke("
   ]
  },
  {
   "cell_type": "code",
   "execution_count": null,
   "id": "b6d6b151-2e27-4db9-aef7-73aaf8725197",
   "metadata": {},
   "outputs": [],
   "source": []
  }
 ],
 "metadata": {
  "kernelspec": {
   "display_name": "Python 3 (ipykernel)",
   "language": "python",
   "name": "python3"
  },
  "language_info": {
   "codemirror_mode": {
    "name": "ipython",
    "version": 3
   },
   "file_extension": ".py",
   "mimetype": "text/x-python",
   "name": "python",
   "nbconvert_exporter": "python",
   "pygments_lexer": "ipython3",
   "version": "3.10.12"
  }
 },
 "nbformat": 4,
 "nbformat_minor": 5
}
